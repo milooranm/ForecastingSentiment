{
 "cells": [
  {
   "cell_type": "code",
   "execution_count": 1,
   "id": "f688ec98",
   "metadata": {},
   "outputs": [
    {
     "data": {
      "text/html": [
       "<script>\n",
       "\n",
       "code_show=true; \n",
       "\n",
       "function code_toggle() {\n",
       "\n",
       " if (code_show){\n",
       "\n",
       " $('div.input').hide();\n",
       "\n",
       " } else {\n",
       "\n",
       " $('div.input').show();\n",
       "\n",
       " }\n",
       "\n",
       " code_show = !code_show\n",
       "\n",
       "} \n",
       "\n",
       "$( document ).ready(code_toggle);\n",
       "\n",
       "</script>\n",
       "\n",
       "<form action=\"javascript:code_toggle()\"><input type=\"submit\" value=\"Click here to toggle on/off the raw code.\"></form>"
      ],
      "text/plain": [
       "<IPython.core.display.HTML object>"
      ]
     },
     "execution_count": 1,
     "metadata": {},
     "output_type": "execute_result"
    }
   ],
   "source": [
    "from IPython.display import HTML\n",
    "\n",
    "HTML('''<script>\n",
    "\n",
    "code_show=true; \n",
    "\n",
    "function code_toggle() {\n",
    "\n",
    " if (code_show){\n",
    "\n",
    " $('div.input').hide();\n",
    "\n",
    " } else {\n",
    "\n",
    " $('div.input').show();\n",
    "\n",
    " }\n",
    "\n",
    " code_show = !code_show\n",
    "\n",
    "} \n",
    "\n",
    "$( document ).ready(code_toggle);\n",
    "\n",
    "</script>\n",
    "\n",
    "<form action=\"javascript:code_toggle()\"><input type=\"submit\" value=\"Click here to toggle on/off the raw code.\"></form>''')"
   ]
  },
  {
   "cell_type": "code",
   "execution_count": 3,
   "id": "9b509ee3",
   "metadata": {},
   "outputs": [],
   "source": [
    "import pandas as pd\n",
    "import statsmodels.api as sm\n",
    "import ipywidgets as widgets\n",
    "from ipywidgets import interactive_output\n",
    "import plotly.express as px\n",
    "import plotly.graph_objects as go\n",
    "import matplotlib.pyplot as plt\n",
    "\n",
    "df=pd.read_csv('AverageDailySentiment')\n",
    "        \n"
   ]
  },
  {
   "cell_type": "markdown",
   "id": "2f99ade0",
   "metadata": {},
   "source": [
    "# Forecasting using the Holt Winters Exponential Smoothing model\n",
    "\n",
    "Choose the number of days you want to forecast"
   ]
  },
  {
   "cell_type": "code",
   "execution_count": null,
   "id": "0a23c04a",
   "metadata": {},
   "outputs": [
    {
     "data": {
      "application/vnd.jupyter.widget-view+json": {
       "model_id": "9fe308b46ce24cd691039ddfe3647d2b",
       "version_major": 2,
       "version_minor": 0
      },
      "text/plain": [
       "VBox(children=(Dropdown(description='# of days:', options=(7, 14, 30, 60, 90), value=7), Output()))"
      ]
     },
     "metadata": {},
     "output_type": "display_data"
    }
   ],
   "source": [
    "def hwesplot(distance):\n",
    "    model = sm.tsa.ExponentialSmoothing(df['mean'], trend=\"add\", seasonal=\"add\", seasonal_periods=30)\n",
    "    fitted_model = model.fit(smoothing_level=0.001, smoothing_trend=0.4, smoothing_seasonal=0.37)\n",
    "    forecast_horizon = distance\n",
    "    forecasts = fitted_model.forecast(steps=forecast_horizon)\n",
    "    \n",
    "    # create a new df from the forecasts\n",
    "    forecasts=pd.DataFrame(forecasts, columns = ['mean'])\n",
    "    means =pd.DataFrame(df['mean'])\n",
    "    future_pred= pd.concat([means, forecasts], axis = 0)\n",
    "    \n",
    "    # add the date column back\n",
    "    future_pred['Date'] = pd.date_range(start='2009-04-06', periods=81+distance, freq='D')\n",
    "    # plot the forecasts\n",
    "    future_pred.plot('Date','mean',kind='line')\n",
    "    \n",
    "    plt.legend().set_visible(False)\n",
    "    plt.xlabel('Date')\n",
    "    plt.ylabel('Mean sentiment')\n",
    "    plt.title('Daily average sentiment forecast ')\n",
    "    \n",
    "    #return future_pred\n",
    "# create dropdown\n",
    "input_widget = widgets.Dropdown(\n",
    "    options=[7, 14, 30, 60, 90],\n",
    "    value=7,\n",
    "    description='# of days:',\n",
    ")\n",
    "# pass input to graph\n",
    "output = interactive_output(hwesplot, {'distance': input_widget})\n",
    "\n",
    "widgets.VBox([input_widget, output])"
   ]
  },
  {
   "cell_type": "code",
   "execution_count": null,
   "id": "b5486294",
   "metadata": {},
   "outputs": [],
   "source": []
  },
  {
   "cell_type": "code",
   "execution_count": null,
   "id": "1a70235d",
   "metadata": {},
   "outputs": [],
   "source": []
  },
  {
   "cell_type": "code",
   "execution_count": null,
   "id": "a5fd39c0",
   "metadata": {},
   "outputs": [],
   "source": []
  },
  {
   "cell_type": "code",
   "execution_count": null,
   "id": "5ad55758",
   "metadata": {},
   "outputs": [],
   "source": []
  }
 ],
 "metadata": {
  "kernelspec": {
   "display_name": "base",
   "language": "python",
   "name": "python3"
  },
  "language_info": {
   "codemirror_mode": {
    "name": "ipython",
    "version": 3
   },
   "file_extension": ".py",
   "mimetype": "text/x-python",
   "name": "python",
   "nbconvert_exporter": "python",
   "pygments_lexer": "ipython3",
   "version": "3.9.13"
  }
 },
 "nbformat": 4,
 "nbformat_minor": 5
}
